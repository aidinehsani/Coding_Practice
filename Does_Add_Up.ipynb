{
  "nbformat": 4,
  "nbformat_minor": 0,
  "metadata": {
    "colab": {
      "name": "Does_Add_Up.ipynb",
      "version": "0.3.2",
      "provenance": [],
      "include_colab_link": true
    },
    "kernelspec": {
      "name": "python3",
      "display_name": "Python 3"
    }
  },
  "cells": [
    {
      "cell_type": "markdown",
      "metadata": {
        "id": "view-in-github",
        "colab_type": "text"
      },
      "source": [
        "<a href=\"https://colab.research.google.com/github/aidinehsani/Coding_Practice/blob/master/Does_Add_Up.ipynb\" target=\"_parent\"><img src=\"https://colab.research.google.com/assets/colab-badge.svg\" alt=\"Open In Colab\"/></a>"
      ]
    },
    {
      "cell_type": "markdown",
      "metadata": {
        "id": "XUmgZyX-3DbG",
        "colab_type": "text"
      },
      "source": [
        "Good morning! Here's your coding interview problem for today.\n",
        "\n",
        "This problem was recently asked by Google.\n",
        "\n",
        "Given a list of numbers and a number k, return whether any two numbers from the list add up to k.\n",
        "\n",
        "For example, given [10, 15, 3, 7] and k of 17, return true since 10 + 7 is 17.\n",
        "\n",
        "Bonus: Can you do this in one pass?"
      ]
    },
    {
      "cell_type": "code",
      "metadata": {
        "id": "OpgRfwRi3FD3",
        "colab_type": "code",
        "colab": {}
      },
      "source": [
        "def DoesAddUp(lst, k):\n",
        "\n",
        "    l = len(lst)\n",
        "    for i in range(l):\n",
        "        for j in range(l):\n",
        "            if lst[i] + lst[j] == k:\n",
        "\n",
        "                return True\n",
        "\n",
        "    return False\n",
        "\n",
        "arr = [10, 15, 3, 7]\n",
        "k = 17\n",
        "print(DoesAddUp(arr,k))"
      ],
      "execution_count": 0,
      "outputs": []
    }
  ]
}